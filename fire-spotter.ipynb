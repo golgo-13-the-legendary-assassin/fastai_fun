{
 "cells": [
  {
   "cell_type": "markdown",
   "id": "7be0bb81",
   "metadata": {
    "papermill": {
     "duration": 0.003746,
     "end_time": "2025-03-21T23:58:51.172454",
     "exception": false,
     "start_time": "2025-03-21T23:58:51.168708",
     "status": "completed"
    },
    "tags": []
   },
   "source": [
    "# Fire Spotter\n",
    "(Credit to jhoward and his fast.ai class for teaching me this code and providing this library!)\n",
    "\n",
    "Have you ever wanted an AI to confirm for you that your apartment is, in fact, on fire? Well, I've got just the tool!\n",
    "\n",
    "🔥🔥🔥🔥🔥🔥🔥🔥🔥🔥🔥🔥🔥🔥🔥🔥🔥🔥🔥🔥🔥🔥🔥🔥🔥🔥"
   ]
  },
  {
   "cell_type": "code",
   "execution_count": 1,
   "id": "48bade60",
   "metadata": {
    "_cell_guid": "b1076dfc-b9ad-4769-8c92-a6c4dae69d19",
    "_uuid": "8f2839f25d086af736a60e9eeb907d3b93b6e0e5",
    "execution": {
     "iopub.execute_input": "2025-03-21T23:58:51.180088Z",
     "iopub.status.busy": "2025-03-21T23:58:51.179570Z",
     "iopub.status.idle": "2025-03-21T23:58:51.269776Z",
     "shell.execute_reply": "2025-03-21T23:58:51.268419Z"
    },
    "papermill": {
     "duration": 0.095758,
     "end_time": "2025-03-21T23:58:51.271360",
     "exception": true,
     "start_time": "2025-03-21T23:58:51.175602",
     "status": "failed"
    },
    "tags": []
   },
   "outputs": [
    {
     "ename": "ModuleNotFoundError",
     "evalue": "No module named 'duckduckgo_search'",
     "output_type": "error",
     "traceback": [
      "\u001b[0;31m---------------------------------------------------------------------------\u001b[0m",
      "\u001b[0;31mModuleNotFoundError\u001b[0m                       Traceback (most recent call last)",
      "\u001b[0;32m<ipython-input-1-dfc7f9b3ea30>\u001b[0m in \u001b[0;36m<cell line: 3>\u001b[0;34m()\u001b[0m\n\u001b[1;32m      1\u001b[0m \u001b[0;31m#Imports and environment crap\u001b[0m\u001b[0;34m\u001b[0m\u001b[0;34m\u001b[0m\u001b[0m\n\u001b[1;32m      2\u001b[0m \u001b[0;32mimport\u001b[0m \u001b[0msocket\u001b[0m\u001b[0;34m,\u001b[0m \u001b[0mwarnings\u001b[0m\u001b[0;34m,\u001b[0m \u001b[0mos\u001b[0m\u001b[0;34m,\u001b[0m \u001b[0mtime\u001b[0m\u001b[0;34m,\u001b[0m \u001b[0mjson\u001b[0m\u001b[0;34m\u001b[0m\u001b[0;34m\u001b[0m\u001b[0m\n\u001b[0;32m----> 3\u001b[0;31m \u001b[0;32mfrom\u001b[0m \u001b[0mduckduckgo_search\u001b[0m \u001b[0;32mimport\u001b[0m \u001b[0mDDGS\u001b[0m\u001b[0;34m\u001b[0m\u001b[0;34m\u001b[0m\u001b[0m\n\u001b[0m\u001b[1;32m      4\u001b[0m \u001b[0;32mfrom\u001b[0m \u001b[0mfastcore\u001b[0m\u001b[0;34m.\u001b[0m\u001b[0mall\u001b[0m \u001b[0;32mimport\u001b[0m \u001b[0;34m*\u001b[0m\u001b[0;34m\u001b[0m\u001b[0;34m\u001b[0m\u001b[0m\n\u001b[1;32m      5\u001b[0m \u001b[0;32mfrom\u001b[0m \u001b[0mfastdownload\u001b[0m \u001b[0;32mimport\u001b[0m \u001b[0mdownload_url\u001b[0m\u001b[0;34m\u001b[0m\u001b[0;34m\u001b[0m\u001b[0m\n",
      "\u001b[0;31mModuleNotFoundError\u001b[0m: No module named 'duckduckgo_search'"
     ]
    }
   ],
   "source": [
    "#Imports and environment crap\n",
    "import socket, warnings, os, time, json\n",
    "from duckduckgo_search import DDGS\n",
    "from fastcore.all import *\n",
    "from fastdownload import download_url\n",
    "from fastai.vision.all import *\n",
    "\n",
    "try:\n",
    "    socket.setdefaulttimeout(1)\n",
    "    socket.socket(socket.AF_INET, socket.SOCK_STREAM).connect(('1.1.1.1', 53))\n",
    "except socket.error as ex: raise Exception(\"STOP: No internet. Click '>|' in top right and set 'Internet' switch to on\")\n",
    "\n",
    "iskaggle = os.environ.get('KAGGLE_KERNEL_RUN_TYPE', '')\n",
    "\n",
    "if iskaggle:\n",
    "    !pip install -Uqq fastai 'duckduckgo_search>=6.2'"
   ]
  },
  {
   "cell_type": "code",
   "execution_count": null,
   "id": "e475c7e0",
   "metadata": {
    "execution": {
     "iopub.execute_input": "2025-03-21T23:46:12.084456Z",
     "iopub.status.busy": "2025-03-21T23:46:12.084149Z",
     "iopub.status.idle": "2025-03-21T23:46:12.089921Z",
     "shell.execute_reply": "2025-03-21T23:46:12.089183Z",
     "shell.execute_reply.started": "2025-03-21T23:46:12.084428Z"
    },
    "papermill": {
     "duration": null,
     "end_time": null,
     "exception": null,
     "start_time": null,
     "status": "pending"
    },
    "tags": []
   },
   "outputs": [],
   "source": [
    "# func definitions\n",
    "def search_images(keywords, max_images=200): return L(DDGS().images(keywords, max_results=max_images)).itemgot('image')"
   ]
  },
  {
   "cell_type": "markdown",
   "id": "5b6c67d9",
   "metadata": {
    "papermill": {
     "duration": null,
     "end_time": null,
     "exception": null,
     "start_time": null,
     "status": "pending"
    },
    "tags": []
   },
   "source": [
    "## Inital Downloads / Dataset Aquisition\n",
    "Lets grab some images, confirm everything is all sane, and get squared away to commence into training."
   ]
  },
  {
   "cell_type": "code",
   "execution_count": null,
   "id": "d0ee8682",
   "metadata": {
    "execution": {
     "iopub.execute_input": "2025-03-21T23:46:12.091544Z",
     "iopub.status.busy": "2025-03-21T23:46:12.091349Z",
     "iopub.status.idle": "2025-03-21T23:46:13.924426Z",
     "shell.execute_reply": "2025-03-21T23:46:13.923263Z",
     "shell.execute_reply.started": "2025-03-21T23:46:12.091528Z"
    },
    "papermill": {
     "duration": null,
     "end_time": null,
     "exception": null,
     "start_time": null,
     "status": "pending"
    },
    "tags": []
   },
   "outputs": [],
   "source": [
    "#Do a sanity check download of an apartment fire\n",
    "urls = search_images('apartment fire', max_images=1)\n",
    "urls[0]\n",
    "dest = 'fire.jpg'\n",
    "download_url(urls[0], dest, show_progress=False)\n",
    "im = Image.open(dest)\n",
    "#Display one to confirm what we're grabbing visually\n",
    "im.to_thumb(256,256)"
   ]
  },
  {
   "cell_type": "code",
   "execution_count": null,
   "id": "7617d2a9",
   "metadata": {
    "execution": {
     "iopub.execute_input": "2025-03-21T23:46:13.925903Z",
     "iopub.status.busy": "2025-03-21T23:46:13.925634Z",
     "iopub.status.idle": "2025-03-21T23:47:28.110736Z",
     "shell.execute_reply": "2025-03-21T23:47:28.109796Z",
     "shell.execute_reply.started": "2025-03-21T23:46:13.925878Z"
    },
    "papermill": {
     "duration": null,
     "end_time": null,
     "exception": null,
     "start_time": null,
     "status": "pending"
    },
    "tags": []
   },
   "outputs": [],
   "source": [
    "searches = 'apartment fire','apartment'\n",
    "path = Path('on_fire_or_not')\n",
    "\n",
    "for o in searches:\n",
    "    dest = (path/o)\n",
    "    dest.mkdir(exist_ok=True, parents=True)\n",
    "    download_images(dest, urls=search_images(f'{o} photo'))\n",
    "    time.sleep(5)\n",
    "    resize_images(path/o, max_size=400, dest=path/o)"
   ]
  },
  {
   "cell_type": "code",
   "execution_count": null,
   "id": "1b2b8e28",
   "metadata": {
    "execution": {
     "iopub.execute_input": "2025-03-21T23:47:28.111797Z",
     "iopub.status.busy": "2025-03-21T23:47:28.111585Z",
     "iopub.status.idle": "2025-03-21T23:47:28.704502Z",
     "shell.execute_reply": "2025-03-21T23:47:28.703655Z",
     "shell.execute_reply.started": "2025-03-21T23:47:28.111777Z"
    },
    "papermill": {
     "duration": null,
     "end_time": null,
     "exception": null,
     "start_time": null,
     "status": "pending"
    },
    "tags": []
   },
   "outputs": [],
   "source": [
    "# Validation before we continue\n",
    "# once again credit to jhoward for teaching the importance of validation\n",
    "failed = verify_images(get_image_files(path))\n",
    "failed.map(Path.unlink)\n",
    "len(failed)"
   ]
  },
  {
   "cell_type": "markdown",
   "id": "2906f7a2",
   "metadata": {
    "papermill": {
     "duration": null,
     "end_time": null,
     "exception": null,
     "start_time": null,
     "status": "pending"
    },
    "tags": []
   },
   "source": [
    "## Training\n",
    "Time to use all of the above to train"
   ]
  },
  {
   "cell_type": "code",
   "execution_count": null,
   "id": "74663244",
   "metadata": {
    "execution": {
     "iopub.execute_input": "2025-03-21T23:47:28.705756Z",
     "iopub.status.busy": "2025-03-21T23:47:28.705484Z",
     "iopub.status.idle": "2025-03-21T23:47:29.412648Z",
     "shell.execute_reply": "2025-03-21T23:47:29.411797Z",
     "shell.execute_reply.started": "2025-03-21T23:47:28.705730Z"
    },
    "papermill": {
     "duration": null,
     "end_time": null,
     "exception": null,
     "start_time": null,
     "status": "pending"
    },
    "tags": []
   },
   "outputs": [],
   "source": [
    "# Populate DataBlocks for PyTorch\n",
    "dls = DataBlock(\n",
    "    blocks=(ImageBlock, CategoryBlock), \n",
    "    get_items=get_image_files, \n",
    "    splitter=RandomSplitter(valid_pct=0.2, seed=42),\n",
    "    get_y=parent_label,\n",
    "    item_tfms=[Resize(192, method='squish')]\n",
    ").dataloaders(path, bs=32)\n",
    "\n",
    "# Can never have enough sanity checks\n",
    "dls.show_batch(max_n=6)"
   ]
  },
  {
   "cell_type": "code",
   "execution_count": null,
   "id": "8658514a",
   "metadata": {
    "execution": {
     "iopub.execute_input": "2025-03-21T23:47:29.413738Z",
     "iopub.status.busy": "2025-03-21T23:47:29.413463Z",
     "iopub.status.idle": "2025-03-21T23:49:29.557451Z",
     "shell.execute_reply": "2025-03-21T23:49:29.556247Z",
     "shell.execute_reply.started": "2025-03-21T23:47:29.413711Z"
    },
    "papermill": {
     "duration": null,
     "end_time": null,
     "exception": null,
     "start_time": null,
     "status": "pending"
    },
    "tags": []
   },
   "outputs": [],
   "source": [
    "learn = vision_learner(dls, resnet18, metrics=error_rate)\n",
    "learn.fine_tune(3)"
   ]
  },
  {
   "cell_type": "markdown",
   "id": "ed4f5f87",
   "metadata": {
    "papermill": {
     "duration": null,
     "end_time": null,
     "exception": null,
     "start_time": null,
     "status": "pending"
    },
    "tags": []
   },
   "source": [
    "# Results\n",
    "Are things on fire?"
   ]
  },
  {
   "cell_type": "code",
   "execution_count": null,
   "id": "a6f8f736",
   "metadata": {
    "execution": {
     "iopub.execute_input": "2025-03-21T23:56:51.466540Z",
     "iopub.status.busy": "2025-03-21T23:56:51.466131Z",
     "iopub.status.idle": "2025-03-21T23:56:51.600952Z",
     "shell.execute_reply": "2025-03-21T23:56:51.599811Z",
     "shell.execute_reply.started": "2025-03-21T23:56:51.466508Z"
    },
    "papermill": {
     "duration": null,
     "end_time": null,
     "exception": null,
     "start_time": null,
     "status": "pending"
    },
    "tags": []
   },
   "outputs": [],
   "source": [
    "is_on_fire,_,probs = learn.predict(PILImage.create('fire.jpg'))\n",
    "print(f\"Result: {is_on_fire}.\")\n",
    "print(f\"Probability I'm right: {probs[0]:.4f}\")\n",
    "im = Image.open('fire.jpg')\n",
    "im.to_thumb(256,256)"
   ]
  }
 ],
 "metadata": {
  "kaggle": {
   "accelerator": "none",
   "dataSources": [],
   "dockerImageVersionId": 30918,
   "isGpuEnabled": false,
   "isInternetEnabled": true,
   "language": "python",
   "sourceType": "notebook"
  },
  "kernelspec": {
   "display_name": "Python 3",
   "language": "python",
   "name": "python3"
  },
  "language_info": {
   "codemirror_mode": {
    "name": "ipython",
    "version": 3
   },
   "file_extension": ".py",
   "mimetype": "text/x-python",
   "name": "python",
   "nbconvert_exporter": "python",
   "pygments_lexer": "ipython3",
   "version": "3.10.12"
  },
  "papermill": {
   "default_parameters": {},
   "duration": 3.992704,
   "end_time": "2025-03-21T23:58:51.693265",
   "environment_variables": {},
   "exception": true,
   "input_path": "__notebook__.ipynb",
   "output_path": "__notebook__.ipynb",
   "parameters": {},
   "start_time": "2025-03-21T23:58:47.700561",
   "version": "2.6.0"
  }
 },
 "nbformat": 4,
 "nbformat_minor": 5
}
